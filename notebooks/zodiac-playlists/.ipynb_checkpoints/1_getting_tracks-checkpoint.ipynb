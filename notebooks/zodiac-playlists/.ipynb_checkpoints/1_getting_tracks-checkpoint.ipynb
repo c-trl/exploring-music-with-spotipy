{
 "cells": [
  {
   "cell_type": "code",
   "execution_count": 1,
   "metadata": {},
   "outputs": [],
   "source": [
    "import spotipy\n",
    "from credentials import client_id, client_secret\n",
    "from spotipy.oauth2 import SpotifyClientCredentials\n",
    "\n",
    "client_credentials_manager = SpotifyClientCredentials(client_id=client_id, client_secret=client_secret)\n",
    "sp = spotipy.Spotify(client_credentials_manager=client_credentials_manager)\n",
    "\n",
    "scope = 'user-library-read'\n",
    "username = 'Christian Tirol'\n",
    "\n",
    "user = '125065858'"
   ]
  },
  {
   "cell_type": "markdown",
   "metadata": {},
   "source": [
    "---"
   ]
  },
  {
   "cell_type": "code",
   "execution_count": 17,
   "metadata": {},
   "outputs": [],
   "source": [
    "exclude = [\n",
    "    'Jazz - Vince Guaraldi Trio – Peanuts Greatest Hits (Music From The TV Specials)',\n",
    "    'Sleepy Jazz',\n",
    "    'Hip Hop n\\' Jazz',\n",
    "    'Hip Hop Classics',\n",
    "    'Hip-Hop: 1994 - 1999',\n",
    "    'Hip-Hop: 2000 - 2006',\n",
    "    'Hip-Hop: 2007 - 2014',\n",
    "    'Oddisee Flight',\n",
    "    '*Leafblowers',\n",
    "    '*PHX to LA'\n",
    "]\n",
    "\n",
    "playlists = sp.user_playlists(user)\n",
    "zodiac = []\n",
    "while playlists:\n",
    "    \n",
    "    for i, playlist in enumerate(playlists['items']):\n",
    "        if playlist['name'] not in exclude:\n",
    "            playlist_id, playlist_name, playlist_uri = playlist['id'], playlist['name'], playlist['uri']\n",
    "            \n",
    "            tracks = sp.user_playlist_tracks(user=user,playlist_id=playlist_id)\n",
    "            tracklist = tracks['items']\n",
    "            for track in tracklist:\n",
    "                track_info = track['track']\n",
    "                track_id, track_name, track_uri, added_on = track_info['id'], track_info['name'], track_info['uri'], track['added_at']\n",
    "                \n",
    "                zodiac.append([playlist_id, playlist_name, playlist_uri, track_id, track_name, track_uri, added_on])\n",
    "                \n",
    "                \n",
    "    if playlists['next']:\n",
    "        playlists = sp.next(playlists)\n",
    "    else:\n",
    "        playlists = None"
   ]
  },
  {
   "cell_type": "code",
   "execution_count": 18,
   "metadata": {},
   "outputs": [],
   "source": [
    "delimiter = '\\t'\n",
    "with open('spotify_playlist_info.csv','w') as f:\n",
    "    f.writelines(delimiter.join(['playlist_id','playlist_name','playlist_uri','track_id','track_name','track_uri','added_on']) + '\\n')\n",
    "    for song in zodiac:\n",
    "        f.writelines(delimiter.join(song) + '\\n')"
   ]
  },
  {
   "cell_type": "markdown",
   "metadata": {},
   "source": [
    "---"
   ]
  }
 ],
 "metadata": {
  "kernelspec": {
   "display_name": "Python 3",
   "language": "python",
   "name": "python3"
  },
  "language_info": {
   "codemirror_mode": {
    "name": "ipython",
    "version": 3
   },
   "file_extension": ".py",
   "mimetype": "text/x-python",
   "name": "python",
   "nbconvert_exporter": "python",
   "pygments_lexer": "ipython3",
   "version": "3.6.8"
  }
 },
 "nbformat": 4,
 "nbformat_minor": 2
}
