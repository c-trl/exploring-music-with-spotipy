{
 "cells": [
  {
   "cell_type": "code",
   "execution_count": 31,
   "metadata": {},
   "outputs": [],
   "source": [
    "import pandas as pd\n",
    "\n",
    "from datetime import datetime\n",
    "\n",
    "import spotipy\n",
    "from credentials import client_id, client_secret\n",
    "from spotipy.oauth2 import SpotifyClientCredentials\n",
    "\n",
    "client_credentials_manager = SpotifyClientCredentials(client_id=client_id, client_secret=client_secret)\n",
    "sp = spotipy.Spotify(client_credentials_manager=client_credentials_manager)\n",
    "\n",
    "scope = 'user-library-read'\n",
    "username = 'Christian Tirol'\n",
    "\n",
    "user = '125065858'"
   ]
  },
  {
   "cell_type": "code",
   "execution_count": 32,
   "metadata": {},
   "outputs": [],
   "source": [
    "df = pd.read_csv('HH-spotify_track_with_artist_info.csv')"
   ]
  },
  {
   "cell_type": "code",
   "execution_count": 33,
   "metadata": {},
   "outputs": [],
   "source": [
    "df['artist_genres'] = pd.Series()"
   ]
  },
  {
   "cell_type": "code",
   "execution_count": 34,
   "metadata": {},
   "outputs": [
    {
     "name": "stdout",
     "output_type": "stream",
     "text": [
      "14.45226 seconds elapsed | 7.957232986397974 aps | 0.0 seconds remaining | 0 of 115 remaining of 115 remainingg\r"
     ]
    }
   ],
   "source": [
    "start = datetime.now()\n",
    "counter = 0\n",
    "\n",
    "for artist_id in df['artist_id'].unique():\n",
    "    counter += 1\n",
    "    if any(df.loc[df['artist_id'] == artist_id].artist_genres.isnull()):\n",
    "        artist_info = sp.artist(artist_id)\n",
    "        df.loc[df['artist_id'] == artist_id,'artist_popularity'] = artist_info['popularity']\n",
    "        df.loc[df['artist_id'] == artist_id,'artist_followers'] = artist_info['followers']['total']\n",
    "        df.loc[df['artist_id'] == artist_id,'artist_genres'] = ', '.join(artist_info['genres'])\n",
    "\n",
    "        sec_elapsed = (datetime.now() - start).total_seconds()\n",
    "        aps = counter / sec_elapsed\n",
    "        artists_left = len(df.artist_id.unique()) - counter\n",
    "        sec_left = artists_left / aps\n",
    "        total_count = len(df.artist_id.unique())\n",
    "    print(sec_elapsed,'seconds elapsed |',aps,'aps |',sec_left,'seconds remaining |',artists_left,'of',total_count,'remaining',end='\\r')"
   ]
  },
  {
   "cell_type": "code",
   "execution_count": 35,
   "metadata": {},
   "outputs": [],
   "source": [
    "df.to_csv('HH-spotify_track_with_genres.csv',index=False)"
   ]
  },
  {
   "cell_type": "code",
   "execution_count": 22,
   "metadata": {},
   "outputs": [],
   "source": [
    "df = pd.read_csv('HH-spotify_track_with_genres.csv')"
   ]
  },
  {
   "cell_type": "code",
   "execution_count": 36,
   "metadata": {},
   "outputs": [
    {
     "data": {
      "text/plain": [
       "Index(['playlist_id', 'playlist_name', 'playlist_uri', 'track_id',\n",
       "       'track_name', 'track_artist', 'featured_artists', 'track_popularity',\n",
       "       'track_uri', 'added_on', 'danceability', 'energy', 'key', 'loudness',\n",
       "       'mode', 'speechiness', 'acousticness', 'instrumentalness', 'liveness',\n",
       "       'valence', 'tempo', 'type', 'id', 'uri', 'track_href', 'analysis_url',\n",
       "       'duration_ms', 'time_signature', 'artist_id', 'artist_genres',\n",
       "       'artist_popularity', 'artist_followers'],\n",
       "      dtype='object')"
      ]
     },
     "execution_count": 36,
     "metadata": {},
     "output_type": "execute_result"
    }
   ],
   "source": [
    "df.columns"
   ]
  },
  {
   "cell_type": "code",
   "execution_count": 37,
   "metadata": {},
   "outputs": [
    {
     "data": {
      "text/html": [
       "<div>\n",
       "<style scoped>\n",
       "    .dataframe tbody tr th:only-of-type {\n",
       "        vertical-align: middle;\n",
       "    }\n",
       "\n",
       "    .dataframe tbody tr th {\n",
       "        vertical-align: top;\n",
       "    }\n",
       "\n",
       "    .dataframe thead th {\n",
       "        text-align: right;\n",
       "    }\n",
       "</style>\n",
       "<table border=\"1\" class=\"dataframe\">\n",
       "  <thead>\n",
       "    <tr style=\"text-align: right;\">\n",
       "      <th></th>\n",
       "      <th>playlist_id</th>\n",
       "      <th>playlist_name</th>\n",
       "      <th>playlist_uri</th>\n",
       "      <th>track_id</th>\n",
       "      <th>track_name</th>\n",
       "      <th>track_artist</th>\n",
       "      <th>featured_artists</th>\n",
       "      <th>track_popularity</th>\n",
       "      <th>track_uri</th>\n",
       "      <th>added_on</th>\n",
       "      <th>...</th>\n",
       "      <th>id</th>\n",
       "      <th>uri</th>\n",
       "      <th>track_href</th>\n",
       "      <th>analysis_url</th>\n",
       "      <th>duration_ms</th>\n",
       "      <th>time_signature</th>\n",
       "      <th>artist_id</th>\n",
       "      <th>artist_genres</th>\n",
       "      <th>artist_popularity</th>\n",
       "      <th>artist_followers</th>\n",
       "    </tr>\n",
       "  </thead>\n",
       "  <tbody>\n",
       "    <tr>\n",
       "      <th>0</th>\n",
       "      <td>7f89DdKO9vRrn7nl5Gjhdq</td>\n",
       "      <td>Hip-Hop: 1994 - 1999</td>\n",
       "      <td>spotify:playlist:7f89DdKO9vRrn7nl5Gjhdq</td>\n",
       "      <td>22uZ8sPzkovoQG4Cu39Pqe</td>\n",
       "      <td>Big Pimpin'</td>\n",
       "      <td>JAY Z</td>\n",
       "      <td>UGK</td>\n",
       "      <td>0</td>\n",
       "      <td>spotify:track:22uZ8sPzkovoQG4Cu39Pqe</td>\n",
       "      <td>2016-12-31T05:45:38Z</td>\n",
       "      <td>...</td>\n",
       "      <td>22uZ8sPzkovoQG4Cu39Pqe</td>\n",
       "      <td>spotify:track:22uZ8sPzkovoQG4Cu39Pqe</td>\n",
       "      <td>https://api.spotify.com/v1/tracks/22uZ8sPzkovo...</td>\n",
       "      <td>https://api.spotify.com/v1/audio-analysis/22uZ...</td>\n",
       "      <td>284640.0</td>\n",
       "      <td>4.0</td>\n",
       "      <td>3nFkdlSjzX9mRTtwJOzDYB</td>\n",
       "      <td>bulgarian hip hop, east coast hip hop, gangste...</td>\n",
       "      <td>81.0</td>\n",
       "      <td>4709918.0</td>\n",
       "    </tr>\n",
       "    <tr>\n",
       "      <th>1</th>\n",
       "      <td>7f89DdKO9vRrn7nl5Gjhdq</td>\n",
       "      <td>Hip-Hop: 1994 - 1999</td>\n",
       "      <td>spotify:playlist:7f89DdKO9vRrn7nl5Gjhdq</td>\n",
       "      <td>5Tl0HJvynZtKdSUMKbFVVX</td>\n",
       "      <td>Hard Knock Life (Ghetto Anthem)</td>\n",
       "      <td>JAY Z</td>\n",
       "      <td>NaN</td>\n",
       "      <td>5</td>\n",
       "      <td>spotify:track:5Tl0HJvynZtKdSUMKbFVVX</td>\n",
       "      <td>2016-12-31T05:46:05Z</td>\n",
       "      <td>...</td>\n",
       "      <td>5Tl0HJvynZtKdSUMKbFVVX</td>\n",
       "      <td>spotify:track:5Tl0HJvynZtKdSUMKbFVVX</td>\n",
       "      <td>https://api.spotify.com/v1/tracks/5Tl0HJvynZtK...</td>\n",
       "      <td>https://api.spotify.com/v1/audio-analysis/5Tl0...</td>\n",
       "      <td>238467.0</td>\n",
       "      <td>4.0</td>\n",
       "      <td>3nFkdlSjzX9mRTtwJOzDYB</td>\n",
       "      <td>bulgarian hip hop, east coast hip hop, gangste...</td>\n",
       "      <td>81.0</td>\n",
       "      <td>4709918.0</td>\n",
       "    </tr>\n",
       "    <tr>\n",
       "      <th>2</th>\n",
       "      <td>7f89DdKO9vRrn7nl5Gjhdq</td>\n",
       "      <td>Hip-Hop: 1994 - 1999</td>\n",
       "      <td>spotify:playlist:7f89DdKO9vRrn7nl5Gjhdq</td>\n",
       "      <td>5MnXRG5LzgSzdpIkg5nagT</td>\n",
       "      <td>Nigga What, Nigga Who (Originator 99)</td>\n",
       "      <td>JAY Z</td>\n",
       "      <td>Big Jaz</td>\n",
       "      <td>0</td>\n",
       "      <td>spotify:track:5MnXRG5LzgSzdpIkg5nagT</td>\n",
       "      <td>2016-12-31T05:46:11Z</td>\n",
       "      <td>...</td>\n",
       "      <td>5MnXRG5LzgSzdpIkg5nagT</td>\n",
       "      <td>spotify:track:5MnXRG5LzgSzdpIkg5nagT</td>\n",
       "      <td>https://api.spotify.com/v1/tracks/5MnXRG5LzgSz...</td>\n",
       "      <td>https://api.spotify.com/v1/audio-analysis/5MnX...</td>\n",
       "      <td>233173.0</td>\n",
       "      <td>4.0</td>\n",
       "      <td>3nFkdlSjzX9mRTtwJOzDYB</td>\n",
       "      <td>bulgarian hip hop, east coast hip hop, gangste...</td>\n",
       "      <td>81.0</td>\n",
       "      <td>4709918.0</td>\n",
       "    </tr>\n",
       "    <tr>\n",
       "      <th>3</th>\n",
       "      <td>7f89DdKO9vRrn7nl5Gjhdq</td>\n",
       "      <td>Hip-Hop: 1994 - 1999</td>\n",
       "      <td>spotify:playlist:7f89DdKO9vRrn7nl5Gjhdq</td>\n",
       "      <td>1FkgoPdajl8gwC1hlyvHtC</td>\n",
       "      <td>Money, Cash, Hoes</td>\n",
       "      <td>JAY Z</td>\n",
       "      <td>DMX</td>\n",
       "      <td>0</td>\n",
       "      <td>spotify:track:1FkgoPdajl8gwC1hlyvHtC</td>\n",
       "      <td>2016-12-31T05:46:15Z</td>\n",
       "      <td>...</td>\n",
       "      <td>1FkgoPdajl8gwC1hlyvHtC</td>\n",
       "      <td>spotify:track:1FkgoPdajl8gwC1hlyvHtC</td>\n",
       "      <td>https://api.spotify.com/v1/tracks/1FkgoPdajl8g...</td>\n",
       "      <td>https://api.spotify.com/v1/audio-analysis/1Fkg...</td>\n",
       "      <td>286133.0</td>\n",
       "      <td>4.0</td>\n",
       "      <td>3nFkdlSjzX9mRTtwJOzDYB</td>\n",
       "      <td>bulgarian hip hop, east coast hip hop, gangste...</td>\n",
       "      <td>81.0</td>\n",
       "      <td>4709918.0</td>\n",
       "    </tr>\n",
       "    <tr>\n",
       "      <th>4</th>\n",
       "      <td>7f89DdKO9vRrn7nl5Gjhdq</td>\n",
       "      <td>Hip-Hop: 1994 - 1999</td>\n",
       "      <td>spotify:playlist:7f89DdKO9vRrn7nl5Gjhdq</td>\n",
       "      <td>4LGMSdeKOUoy5Wf75Je0Hl</td>\n",
       "      <td>Can I Get A...</td>\n",
       "      <td>JAY Z</td>\n",
       "      <td>Amil, Ja Rule</td>\n",
       "      <td>2</td>\n",
       "      <td>spotify:track:4LGMSdeKOUoy5Wf75Je0Hl</td>\n",
       "      <td>2016-12-31T05:46:19Z</td>\n",
       "      <td>...</td>\n",
       "      <td>4LGMSdeKOUoy5Wf75Je0Hl</td>\n",
       "      <td>spotify:track:4LGMSdeKOUoy5Wf75Je0Hl</td>\n",
       "      <td>https://api.spotify.com/v1/tracks/4LGMSdeKOUoy...</td>\n",
       "      <td>https://api.spotify.com/v1/audio-analysis/4LGM...</td>\n",
       "      <td>309773.0</td>\n",
       "      <td>4.0</td>\n",
       "      <td>3nFkdlSjzX9mRTtwJOzDYB</td>\n",
       "      <td>bulgarian hip hop, east coast hip hop, gangste...</td>\n",
       "      <td>81.0</td>\n",
       "      <td>4709918.0</td>\n",
       "    </tr>\n",
       "  </tbody>\n",
       "</table>\n",
       "<p>5 rows × 32 columns</p>\n",
       "</div>"
      ],
      "text/plain": [
       "              playlist_id         playlist_name  \\\n",
       "0  7f89DdKO9vRrn7nl5Gjhdq  Hip-Hop: 1994 - 1999   \n",
       "1  7f89DdKO9vRrn7nl5Gjhdq  Hip-Hop: 1994 - 1999   \n",
       "2  7f89DdKO9vRrn7nl5Gjhdq  Hip-Hop: 1994 - 1999   \n",
       "3  7f89DdKO9vRrn7nl5Gjhdq  Hip-Hop: 1994 - 1999   \n",
       "4  7f89DdKO9vRrn7nl5Gjhdq  Hip-Hop: 1994 - 1999   \n",
       "\n",
       "                              playlist_uri                track_id  \\\n",
       "0  spotify:playlist:7f89DdKO9vRrn7nl5Gjhdq  22uZ8sPzkovoQG4Cu39Pqe   \n",
       "1  spotify:playlist:7f89DdKO9vRrn7nl5Gjhdq  5Tl0HJvynZtKdSUMKbFVVX   \n",
       "2  spotify:playlist:7f89DdKO9vRrn7nl5Gjhdq  5MnXRG5LzgSzdpIkg5nagT   \n",
       "3  spotify:playlist:7f89DdKO9vRrn7nl5Gjhdq  1FkgoPdajl8gwC1hlyvHtC   \n",
       "4  spotify:playlist:7f89DdKO9vRrn7nl5Gjhdq  4LGMSdeKOUoy5Wf75Je0Hl   \n",
       "\n",
       "                              track_name track_artist featured_artists  \\\n",
       "0                            Big Pimpin'        JAY Z              UGK   \n",
       "1        Hard Knock Life (Ghetto Anthem)        JAY Z              NaN   \n",
       "2  Nigga What, Nigga Who (Originator 99)        JAY Z          Big Jaz   \n",
       "3                      Money, Cash, Hoes        JAY Z              DMX   \n",
       "4                         Can I Get A...        JAY Z    Amil, Ja Rule   \n",
       "\n",
       "   track_popularity                             track_uri  \\\n",
       "0                 0  spotify:track:22uZ8sPzkovoQG4Cu39Pqe   \n",
       "1                 5  spotify:track:5Tl0HJvynZtKdSUMKbFVVX   \n",
       "2                 0  spotify:track:5MnXRG5LzgSzdpIkg5nagT   \n",
       "3                 0  spotify:track:1FkgoPdajl8gwC1hlyvHtC   \n",
       "4                 2  spotify:track:4LGMSdeKOUoy5Wf75Je0Hl   \n",
       "\n",
       "               added_on  ...                      id  \\\n",
       "0  2016-12-31T05:45:38Z  ...  22uZ8sPzkovoQG4Cu39Pqe   \n",
       "1  2016-12-31T05:46:05Z  ...  5Tl0HJvynZtKdSUMKbFVVX   \n",
       "2  2016-12-31T05:46:11Z  ...  5MnXRG5LzgSzdpIkg5nagT   \n",
       "3  2016-12-31T05:46:15Z  ...  1FkgoPdajl8gwC1hlyvHtC   \n",
       "4  2016-12-31T05:46:19Z  ...  4LGMSdeKOUoy5Wf75Je0Hl   \n",
       "\n",
       "                                    uri  \\\n",
       "0  spotify:track:22uZ8sPzkovoQG4Cu39Pqe   \n",
       "1  spotify:track:5Tl0HJvynZtKdSUMKbFVVX   \n",
       "2  spotify:track:5MnXRG5LzgSzdpIkg5nagT   \n",
       "3  spotify:track:1FkgoPdajl8gwC1hlyvHtC   \n",
       "4  spotify:track:4LGMSdeKOUoy5Wf75Je0Hl   \n",
       "\n",
       "                                          track_href  \\\n",
       "0  https://api.spotify.com/v1/tracks/22uZ8sPzkovo...   \n",
       "1  https://api.spotify.com/v1/tracks/5Tl0HJvynZtK...   \n",
       "2  https://api.spotify.com/v1/tracks/5MnXRG5LzgSz...   \n",
       "3  https://api.spotify.com/v1/tracks/1FkgoPdajl8g...   \n",
       "4  https://api.spotify.com/v1/tracks/4LGMSdeKOUoy...   \n",
       "\n",
       "                                        analysis_url  duration_ms  \\\n",
       "0  https://api.spotify.com/v1/audio-analysis/22uZ...     284640.0   \n",
       "1  https://api.spotify.com/v1/audio-analysis/5Tl0...     238467.0   \n",
       "2  https://api.spotify.com/v1/audio-analysis/5MnX...     233173.0   \n",
       "3  https://api.spotify.com/v1/audio-analysis/1Fkg...     286133.0   \n",
       "4  https://api.spotify.com/v1/audio-analysis/4LGM...     309773.0   \n",
       "\n",
       "   time_signature               artist_id  \\\n",
       "0             4.0  3nFkdlSjzX9mRTtwJOzDYB   \n",
       "1             4.0  3nFkdlSjzX9mRTtwJOzDYB   \n",
       "2             4.0  3nFkdlSjzX9mRTtwJOzDYB   \n",
       "3             4.0  3nFkdlSjzX9mRTtwJOzDYB   \n",
       "4             4.0  3nFkdlSjzX9mRTtwJOzDYB   \n",
       "\n",
       "                                       artist_genres  artist_popularity  \\\n",
       "0  bulgarian hip hop, east coast hip hop, gangste...               81.0   \n",
       "1  bulgarian hip hop, east coast hip hop, gangste...               81.0   \n",
       "2  bulgarian hip hop, east coast hip hop, gangste...               81.0   \n",
       "3  bulgarian hip hop, east coast hip hop, gangste...               81.0   \n",
       "4  bulgarian hip hop, east coast hip hop, gangste...               81.0   \n",
       "\n",
       "   artist_followers  \n",
       "0         4709918.0  \n",
       "1         4709918.0  \n",
       "2         4709918.0  \n",
       "3         4709918.0  \n",
       "4         4709918.0  \n",
       "\n",
       "[5 rows x 32 columns]"
      ]
     },
     "execution_count": 37,
     "metadata": {},
     "output_type": "execute_result"
    }
   ],
   "source": [
    "df.head()"
   ]
  },
  {
   "cell_type": "markdown",
   "metadata": {},
   "source": [
    "When do I like to listen indie artists the most?\n",
    "\n",
    "--- "
   ]
  },
  {
   "cell_type": "code",
   "execution_count": 10,
   "metadata": {},
   "outputs": [],
   "source": [
    "%matplotlib inline"
   ]
  },
  {
   "cell_type": "code",
   "execution_count": 11,
   "metadata": {},
   "outputs": [
    {
     "data": {
      "text/plain": [
       "<matplotlib.axes._subplots.AxesSubplot at 0x10f64de10>"
      ]
     },
     "execution_count": 11,
     "metadata": {},
     "output_type": "execute_result"
    },
    {
     "data": {
      "image/png": "[encoded data removed]",
      "text/plain": [
       "<Figure size 432x288 with 1 Axes>"
      ]
     },
     "metadata": {},
     "output_type": "display_data"
    }
   ],
   "source": [
    "df[['hour_added','id']].groupby('hour_added').count().plot(kind='bar')"
   ]
  },
  {
   "cell_type": "code",
   "execution_count": 12,
   "metadata": {},
   "outputs": [
    {
     "data": {
      "text/plain": [
       "<matplotlib.axes._subplots.AxesSubplot at 0x118694358>"
      ]
     },
     "execution_count": 12,
     "metadata": {},
     "output_type": "execute_result"
    },
    {
     "data": {
      "image/png": "[encoded data removed]",
      "text/plain": [
       "<Figure size 1440x360 with 1 Axes>"
      ]
     },
     "metadata": {},
     "output_type": "display_data"
    }
   ],
   "source": [
    "df[['hour_added','artist_followers']].groupby('hour_added').mean().reset_index().plot(\n",
    "    kind='line',\n",
    "    y='artist_followers',\n",
    "    figsize=(20,5))"
   ]
  },
  {
   "cell_type": "code",
   "execution_count": 13,
   "metadata": {},
   "outputs": [
    {
     "data": {
      "text/plain": [
       "<matplotlib.axes._subplots.AxesSubplot at 0x118977908>"
      ]
     },
     "execution_count": 13,
     "metadata": {},
     "output_type": "execute_result"
    },
    {
     "data": {
      "image/png": "[encoded data removed]",
      "text/plain": [
       "<Figure size 1440x360 with 1 Axes>"
      ]
     },
     "metadata": {},
     "output_type": "display_data"
    }
   ],
   "source": [
    "y = 'artist_popularity'\n",
    "x = 'hour_added'\n",
    "df[[x,y]].plot(\n",
    "    kind='scatter',\n",
    "    y=y,\n",
    "    x=x,\n",
    "    figsize=(20,5),\n",
    "    alpha=.10,\n",
    "    c='lightskyblue',\n",
    "    s=100,\n",
    "    xticks=df[x]\n",
    ")"
   ]
  },
  {
   "cell_type": "markdown",
   "metadata": {},
   "source": [
    "# Genre Analysis\n",
    "---"
   ]
  },
  {
   "cell_type": "code",
   "execution_count": 25,
   "metadata": {},
   "outputs": [
    {
     "data": {
      "text/plain": [
       "Index(['playlist_id', 'playlist_name', 'playlist_uri', 'track_id',\n",
       "       'track_name', 'track_artist', 'featured_artists', 'track_popularity',\n",
       "       'track_uri', 'added_on', 'artist_id', 'artist_genres',\n",
       "       'artist_popularity', 'artist_followers'],\n",
       "      dtype='object')"
      ]
     },
     "execution_count": 25,
     "metadata": {},
     "output_type": "execute_result"
    }
   ],
   "source": [
    "df.columns"
   ]
  },
  {
   "cell_type": "code",
   "execution_count": 17,
   "metadata": {},
   "outputs": [
    {
     "data": {
      "text/html": [
       "<div>\n",
       "<style scoped>\n",
       "    .dataframe tbody tr th:only-of-type {\n",
       "        vertical-align: middle;\n",
       "    }\n",
       "\n",
       "    .dataframe tbody tr th {\n",
       "        vertical-align: top;\n",
       "    }\n",
       "\n",
       "    .dataframe thead th {\n",
       "        text-align: right;\n",
       "    }\n",
       "</style>\n",
       "<table border=\"1\" class=\"dataframe\">\n",
       "  <thead>\n",
       "    <tr style=\"text-align: right;\">\n",
       "      <th></th>\n",
       "      <th>playlist_id</th>\n",
       "      <th>playlist_name</th>\n",
       "      <th>playlist_uri</th>\n",
       "      <th>track_id</th>\n",
       "      <th>track_name</th>\n",
       "      <th>track_uri</th>\n",
       "      <th>added_on</th>\n",
       "      <th>danceability</th>\n",
       "      <th>energy</th>\n",
       "      <th>key</th>\n",
       "      <th>...</th>\n",
       "      <th>date_added</th>\n",
       "      <th>hour_added</th>\n",
       "      <th>day_added</th>\n",
       "      <th>month_added</th>\n",
       "      <th>artist_id</th>\n",
       "      <th>track_artist</th>\n",
       "      <th>featured_artists</th>\n",
       "      <th>artist_genres</th>\n",
       "      <th>artist_popularity</th>\n",
       "      <th>artist_followers</th>\n",
       "    </tr>\n",
       "  </thead>\n",
       "  <tbody>\n",
       "    <tr>\n",
       "      <th>0</th>\n",
       "      <td>7f89DdKO9vRrn7nl5Gjhdq</td>\n",
       "      <td>Hip-Hop: 1994 - 1999</td>\n",
       "      <td>spotify:playlist:7f89DdKO9vRrn7nl5Gjhdq</td>\n",
       "      <td>22uZ8sPzkovoQG4Cu39Pqe</td>\n",
       "      <td>Big Pimpin'</td>\n",
       "      <td>spotify:track:22uZ8sPzkovoQG4Cu39Pqe</td>\n",
       "      <td>2016-12-31T05:45:38Z</td>\n",
       "      <td>0.880</td>\n",
       "      <td>0.816</td>\n",
       "      <td>11.0</td>\n",
       "      <td>...</td>\n",
       "      <td>2016-12-31</td>\n",
       "      <td>5</td>\n",
       "      <td>6</td>\n",
       "      <td>12</td>\n",
       "      <td>3nFkdlSjzX9mRTtwJOzDYB</td>\n",
       "      <td>JAY Z</td>\n",
       "      <td>UGK</td>\n",
       "      <td>bulgarian hip hop, east coast hip hop, gangste...</td>\n",
       "      <td>81.0</td>\n",
       "      <td>4709906.0</td>\n",
       "    </tr>\n",
       "    <tr>\n",
       "      <th>1</th>\n",
       "      <td>7f89DdKO9vRrn7nl5Gjhdq</td>\n",
       "      <td>Hip-Hop: 1994 - 1999</td>\n",
       "      <td>spotify:playlist:7f89DdKO9vRrn7nl5Gjhdq</td>\n",
       "      <td>5Tl0HJvynZtKdSUMKbFVVX</td>\n",
       "      <td>Hard Knock Life (Ghetto Anthem)</td>\n",
       "      <td>spotify:track:5Tl0HJvynZtKdSUMKbFVVX</td>\n",
       "      <td>2016-12-31T05:46:05Z</td>\n",
       "      <td>0.883</td>\n",
       "      <td>0.659</td>\n",
       "      <td>10.0</td>\n",
       "      <td>...</td>\n",
       "      <td>2016-12-31</td>\n",
       "      <td>5</td>\n",
       "      <td>6</td>\n",
       "      <td>12</td>\n",
       "      <td>3nFkdlSjzX9mRTtwJOzDYB</td>\n",
       "      <td>JAY Z</td>\n",
       "      <td>NaN</td>\n",
       "      <td>bulgarian hip hop, east coast hip hop, gangste...</td>\n",
       "      <td>81.0</td>\n",
       "      <td>4709906.0</td>\n",
       "    </tr>\n",
       "    <tr>\n",
       "      <th>2</th>\n",
       "      <td>7f89DdKO9vRrn7nl5Gjhdq</td>\n",
       "      <td>Hip-Hop: 1994 - 1999</td>\n",
       "      <td>spotify:playlist:7f89DdKO9vRrn7nl5Gjhdq</td>\n",
       "      <td>5MnXRG5LzgSzdpIkg5nagT</td>\n",
       "      <td>Nigga What, Nigga Who (Originator 99)</td>\n",
       "      <td>spotify:track:5MnXRG5LzgSzdpIkg5nagT</td>\n",
       "      <td>2016-12-31T05:46:11Z</td>\n",
       "      <td>0.862</td>\n",
       "      <td>0.614</td>\n",
       "      <td>11.0</td>\n",
       "      <td>...</td>\n",
       "      <td>2016-12-31</td>\n",
       "      <td>5</td>\n",
       "      <td>6</td>\n",
       "      <td>12</td>\n",
       "      <td>3nFkdlSjzX9mRTtwJOzDYB</td>\n",
       "      <td>JAY Z</td>\n",
       "      <td>Big Jaz</td>\n",
       "      <td>bulgarian hip hop, east coast hip hop, gangste...</td>\n",
       "      <td>81.0</td>\n",
       "      <td>4709906.0</td>\n",
       "    </tr>\n",
       "    <tr>\n",
       "      <th>3</th>\n",
       "      <td>7f89DdKO9vRrn7nl5Gjhdq</td>\n",
       "      <td>Hip-Hop: 1994 - 1999</td>\n",
       "      <td>spotify:playlist:7f89DdKO9vRrn7nl5Gjhdq</td>\n",
       "      <td>1FkgoPdajl8gwC1hlyvHtC</td>\n",
       "      <td>Money, Cash, Hoes</td>\n",
       "      <td>spotify:track:1FkgoPdajl8gwC1hlyvHtC</td>\n",
       "      <td>2016-12-31T05:46:15Z</td>\n",
       "      <td>0.866</td>\n",
       "      <td>0.588</td>\n",
       "      <td>1.0</td>\n",
       "      <td>...</td>\n",
       "      <td>2016-12-31</td>\n",
       "      <td>5</td>\n",
       "      <td>6</td>\n",
       "      <td>12</td>\n",
       "      <td>3nFkdlSjzX9mRTtwJOzDYB</td>\n",
       "      <td>JAY Z</td>\n",
       "      <td>DMX</td>\n",
       "      <td>bulgarian hip hop, east coast hip hop, gangste...</td>\n",
       "      <td>81.0</td>\n",
       "      <td>4709906.0</td>\n",
       "    </tr>\n",
       "    <tr>\n",
       "      <th>4</th>\n",
       "      <td>7f89DdKO9vRrn7nl5Gjhdq</td>\n",
       "      <td>Hip-Hop: 1994 - 1999</td>\n",
       "      <td>spotify:playlist:7f89DdKO9vRrn7nl5Gjhdq</td>\n",
       "      <td>4LGMSdeKOUoy5Wf75Je0Hl</td>\n",
       "      <td>Can I Get A...</td>\n",
       "      <td>spotify:track:4LGMSdeKOUoy5Wf75Je0Hl</td>\n",
       "      <td>2016-12-31T05:46:19Z</td>\n",
       "      <td>0.863</td>\n",
       "      <td>0.700</td>\n",
       "      <td>8.0</td>\n",
       "      <td>...</td>\n",
       "      <td>2016-12-31</td>\n",
       "      <td>5</td>\n",
       "      <td>6</td>\n",
       "      <td>12</td>\n",
       "      <td>3nFkdlSjzX9mRTtwJOzDYB</td>\n",
       "      <td>JAY Z</td>\n",
       "      <td>Amil, Ja Rule</td>\n",
       "      <td>bulgarian hip hop, east coast hip hop, gangste...</td>\n",
       "      <td>81.0</td>\n",
       "      <td>4709906.0</td>\n",
       "    </tr>\n",
       "  </tbody>\n",
       "</table>\n",
       "<p>5 rows × 36 columns</p>\n",
       "</div>"
      ],
      "text/plain": [
       "              playlist_id         playlist_name  \\\n",
       "0  7f89DdKO9vRrn7nl5Gjhdq  Hip-Hop: 1994 - 1999   \n",
       "1  7f89DdKO9vRrn7nl5Gjhdq  Hip-Hop: 1994 - 1999   \n",
       "2  7f89DdKO9vRrn7nl5Gjhdq  Hip-Hop: 1994 - 1999   \n",
       "3  7f89DdKO9vRrn7nl5Gjhdq  Hip-Hop: 1994 - 1999   \n",
       "4  7f89DdKO9vRrn7nl5Gjhdq  Hip-Hop: 1994 - 1999   \n",
       "\n",
       "                              playlist_uri                track_id  \\\n",
       "0  spotify:playlist:7f89DdKO9vRrn7nl5Gjhdq  22uZ8sPzkovoQG4Cu39Pqe   \n",
       "1  spotify:playlist:7f89DdKO9vRrn7nl5Gjhdq  5Tl0HJvynZtKdSUMKbFVVX   \n",
       "2  spotify:playlist:7f89DdKO9vRrn7nl5Gjhdq  5MnXRG5LzgSzdpIkg5nagT   \n",
       "3  spotify:playlist:7f89DdKO9vRrn7nl5Gjhdq  1FkgoPdajl8gwC1hlyvHtC   \n",
       "4  spotify:playlist:7f89DdKO9vRrn7nl5Gjhdq  4LGMSdeKOUoy5Wf75Je0Hl   \n",
       "\n",
       "                              track_name  \\\n",
       "0                            Big Pimpin'   \n",
       "1        Hard Knock Life (Ghetto Anthem)   \n",
       "2  Nigga What, Nigga Who (Originator 99)   \n",
       "3                      Money, Cash, Hoes   \n",
       "4                         Can I Get A...   \n",
       "\n",
       "                              track_uri              added_on  danceability  \\\n",
       "0  spotify:track:22uZ8sPzkovoQG4Cu39Pqe  2016-12-31T05:45:38Z         0.880   \n",
       "1  spotify:track:5Tl0HJvynZtKdSUMKbFVVX  2016-12-31T05:46:05Z         0.883   \n",
       "2  spotify:track:5MnXRG5LzgSzdpIkg5nagT  2016-12-31T05:46:11Z         0.862   \n",
       "3  spotify:track:1FkgoPdajl8gwC1hlyvHtC  2016-12-31T05:46:15Z         0.866   \n",
       "4  spotify:track:4LGMSdeKOUoy5Wf75Je0Hl  2016-12-31T05:46:19Z         0.863   \n",
       "\n",
       "   energy   key  ...  date_added  hour_added  day_added  month_added  \\\n",
       "0   0.816  11.0  ...  2016-12-31           5          6           12   \n",
       "1   0.659  10.0  ...  2016-12-31           5          6           12   \n",
       "2   0.614  11.0  ...  2016-12-31           5          6           12   \n",
       "3   0.588   1.0  ...  2016-12-31           5          6           12   \n",
       "4   0.700   8.0  ...  2016-12-31           5          6           12   \n",
       "\n",
       "                artist_id  track_artist  featured_artists  \\\n",
       "0  3nFkdlSjzX9mRTtwJOzDYB         JAY Z               UGK   \n",
       "1  3nFkdlSjzX9mRTtwJOzDYB         JAY Z               NaN   \n",
       "2  3nFkdlSjzX9mRTtwJOzDYB         JAY Z           Big Jaz   \n",
       "3  3nFkdlSjzX9mRTtwJOzDYB         JAY Z               DMX   \n",
       "4  3nFkdlSjzX9mRTtwJOzDYB         JAY Z     Amil, Ja Rule   \n",
       "\n",
       "                                       artist_genres artist_popularity  \\\n",
       "0  bulgarian hip hop, east coast hip hop, gangste...              81.0   \n",
       "1  bulgarian hip hop, east coast hip hop, gangste...              81.0   \n",
       "2  bulgarian hip hop, east coast hip hop, gangste...              81.0   \n",
       "3  bulgarian hip hop, east coast hip hop, gangste...              81.0   \n",
       "4  bulgarian hip hop, east coast hip hop, gangste...              81.0   \n",
       "\n",
       "  artist_followers  \n",
       "0        4709906.0  \n",
       "1        4709906.0  \n",
       "2        4709906.0  \n",
       "3        4709906.0  \n",
       "4        4709906.0  \n",
       "\n",
       "[5 rows x 36 columns]"
      ]
     },
     "execution_count": 17,
     "metadata": {},
     "output_type": "execute_result"
    }
   ],
   "source": [
    "df.head()"
   ]
  }
 ],
 "metadata": {
  "kernelspec": {
   "display_name": "Python 3",
   "language": "python",
   "name": "python3"
  },
  "language_info": {
   "codemirror_mode": {
    "name": "ipython",
    "version": 3
   },
   "file_extension": ".py",
   "mimetype": "text/x-python",
   "name": "python",
   "nbconvert_exporter": "python",
   "pygments_lexer": "ipython3",
   "version": "3.6.8"
  }
 },
 "nbformat": 4,
 "nbformat_minor": 2
}
