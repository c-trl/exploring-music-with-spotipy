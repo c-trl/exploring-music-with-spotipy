{
 "cells": [
  {
   "cell_type": "code",
   "execution_count": 26,
   "metadata": {},
   "outputs": [],
   "source": [
    "%matplotlib inline"
   ]
  },
  {
   "cell_type": "code",
   "execution_count": 34,
   "metadata": {},
   "outputs": [],
   "source": [
    "import pandas as pd\n",
    "\n",
    "from datetime import datetime\n",
    "\n",
    "import spotipy\n",
    "from credentials import client_id, client_secret\n",
    "from spotipy.oauth2 import SpotifyClientCredentials"
   ]
  },
  {
   "cell_type": "code",
   "execution_count": 40,
   "metadata": {},
   "outputs": [],
   "source": [
    "df = pd.read_csv('HH-spotify_playlist_info.csv')"
   ]
  },
  {
   "cell_type": "code",
   "execution_count": 41,
   "metadata": {},
   "outputs": [
    {
     "data": {
      "text/plain": [
       "Index(['playlist_id', 'playlist_name', 'playlist_uri', 'track_id',\n",
       "       'track_name', 'track_artist', 'featured_artists', 'track_popularity',\n",
       "       'track_uri', 'added_on', 'danceability', 'energy', 'key', 'loudness',\n",
       "       'mode', 'speechiness', 'acousticness', 'instrumentalness', 'liveness',\n",
       "       'valence', 'tempo', 'type', 'id', 'uri', 'track_href', 'analysis_url',\n",
       "       'duration_ms', 'time_signature'],\n",
       "      dtype='object')"
      ]
     },
     "execution_count": 41,
     "metadata": {},
     "output_type": "execute_result"
    }
   ],
   "source": [
    "df.columns"
   ]
  },
  {
   "cell_type": "code",
   "execution_count": 42,
   "metadata": {},
   "outputs": [
    {
     "data": {
      "text/html": [
       "<div>\n",
       "<style scoped>\n",
       "    .dataframe tbody tr th:only-of-type {\n",
       "        vertical-align: middle;\n",
       "    }\n",
       "\n",
       "    .dataframe tbody tr th {\n",
       "        vertical-align: top;\n",
       "    }\n",
       "\n",
       "    .dataframe thead th {\n",
       "        text-align: right;\n",
       "    }\n",
       "</style>\n",
       "<table border=\"1\" class=\"dataframe\">\n",
       "  <thead>\n",
       "    <tr style=\"text-align: right;\">\n",
       "      <th></th>\n",
       "      <th>playlist_id</th>\n",
       "      <th>playlist_name</th>\n",
       "      <th>playlist_uri</th>\n",
       "      <th>track_id</th>\n",
       "      <th>track_name</th>\n",
       "      <th>track_artist</th>\n",
       "      <th>featured_artists</th>\n",
       "      <th>track_popularity</th>\n",
       "      <th>track_uri</th>\n",
       "      <th>added_on</th>\n",
       "      <th>...</th>\n",
       "      <th>liveness</th>\n",
       "      <th>valence</th>\n",
       "      <th>tempo</th>\n",
       "      <th>type</th>\n",
       "      <th>id</th>\n",
       "      <th>uri</th>\n",
       "      <th>track_href</th>\n",
       "      <th>analysis_url</th>\n",
       "      <th>duration_ms</th>\n",
       "      <th>time_signature</th>\n",
       "    </tr>\n",
       "  </thead>\n",
       "  <tbody>\n",
       "    <tr>\n",
       "      <th>0</th>\n",
       "      <td>7f89DdKO9vRrn7nl5Gjhdq</td>\n",
       "      <td>Hip-Hop: 1994 - 1999</td>\n",
       "      <td>spotify:playlist:7f89DdKO9vRrn7nl5Gjhdq</td>\n",
       "      <td>22uZ8sPzkovoQG4Cu39Pqe</td>\n",
       "      <td>Big Pimpin'</td>\n",
       "      <td>JAY Z</td>\n",
       "      <td>UGK</td>\n",
       "      <td>0</td>\n",
       "      <td>spotify:track:22uZ8sPzkovoQG4Cu39Pqe</td>\n",
       "      <td>2016-12-31T05:45:38Z</td>\n",
       "      <td>...</td>\n",
       "      <td>0.0406</td>\n",
       "      <td>0.914</td>\n",
       "      <td>138.030</td>\n",
       "      <td>audio_features</td>\n",
       "      <td>22uZ8sPzkovoQG4Cu39Pqe</td>\n",
       "      <td>spotify:track:22uZ8sPzkovoQG4Cu39Pqe</td>\n",
       "      <td>https://api.spotify.com/v1/tracks/22uZ8sPzkovo...</td>\n",
       "      <td>https://api.spotify.com/v1/audio-analysis/22uZ...</td>\n",
       "      <td>284640.0</td>\n",
       "      <td>4.0</td>\n",
       "    </tr>\n",
       "    <tr>\n",
       "      <th>1</th>\n",
       "      <td>7f89DdKO9vRrn7nl5Gjhdq</td>\n",
       "      <td>Hip-Hop: 1994 - 1999</td>\n",
       "      <td>spotify:playlist:7f89DdKO9vRrn7nl5Gjhdq</td>\n",
       "      <td>5Tl0HJvynZtKdSUMKbFVVX</td>\n",
       "      <td>Hard Knock Life (Ghetto Anthem)</td>\n",
       "      <td>JAY Z</td>\n",
       "      <td>NaN</td>\n",
       "      <td>5</td>\n",
       "      <td>spotify:track:5Tl0HJvynZtKdSUMKbFVVX</td>\n",
       "      <td>2016-12-31T05:46:05Z</td>\n",
       "      <td>...</td>\n",
       "      <td>0.0285</td>\n",
       "      <td>0.557</td>\n",
       "      <td>77.030</td>\n",
       "      <td>audio_features</td>\n",
       "      <td>5Tl0HJvynZtKdSUMKbFVVX</td>\n",
       "      <td>spotify:track:5Tl0HJvynZtKdSUMKbFVVX</td>\n",
       "      <td>https://api.spotify.com/v1/tracks/5Tl0HJvynZtK...</td>\n",
       "      <td>https://api.spotify.com/v1/audio-analysis/5Tl0...</td>\n",
       "      <td>238467.0</td>\n",
       "      <td>4.0</td>\n",
       "    </tr>\n",
       "    <tr>\n",
       "      <th>2</th>\n",
       "      <td>7f89DdKO9vRrn7nl5Gjhdq</td>\n",
       "      <td>Hip-Hop: 1994 - 1999</td>\n",
       "      <td>spotify:playlist:7f89DdKO9vRrn7nl5Gjhdq</td>\n",
       "      <td>5MnXRG5LzgSzdpIkg5nagT</td>\n",
       "      <td>Nigga What, Nigga Who (Originator 99)</td>\n",
       "      <td>JAY Z</td>\n",
       "      <td>Big Jaz</td>\n",
       "      <td>0</td>\n",
       "      <td>spotify:track:5MnXRG5LzgSzdpIkg5nagT</td>\n",
       "      <td>2016-12-31T05:46:11Z</td>\n",
       "      <td>...</td>\n",
       "      <td>0.0656</td>\n",
       "      <td>0.714</td>\n",
       "      <td>132.916</td>\n",
       "      <td>audio_features</td>\n",
       "      <td>5MnXRG5LzgSzdpIkg5nagT</td>\n",
       "      <td>spotify:track:5MnXRG5LzgSzdpIkg5nagT</td>\n",
       "      <td>https://api.spotify.com/v1/tracks/5MnXRG5LzgSz...</td>\n",
       "      <td>https://api.spotify.com/v1/audio-analysis/5MnX...</td>\n",
       "      <td>233173.0</td>\n",
       "      <td>4.0</td>\n",
       "    </tr>\n",
       "    <tr>\n",
       "      <th>3</th>\n",
       "      <td>7f89DdKO9vRrn7nl5Gjhdq</td>\n",
       "      <td>Hip-Hop: 1994 - 1999</td>\n",
       "      <td>spotify:playlist:7f89DdKO9vRrn7nl5Gjhdq</td>\n",
       "      <td>1FkgoPdajl8gwC1hlyvHtC</td>\n",
       "      <td>Money, Cash, Hoes</td>\n",
       "      <td>JAY Z</td>\n",
       "      <td>DMX</td>\n",
       "      <td>0</td>\n",
       "      <td>spotify:track:1FkgoPdajl8gwC1hlyvHtC</td>\n",
       "      <td>2016-12-31T05:46:15Z</td>\n",
       "      <td>...</td>\n",
       "      <td>0.1890</td>\n",
       "      <td>0.476</td>\n",
       "      <td>90.073</td>\n",
       "      <td>audio_features</td>\n",
       "      <td>1FkgoPdajl8gwC1hlyvHtC</td>\n",
       "      <td>spotify:track:1FkgoPdajl8gwC1hlyvHtC</td>\n",
       "      <td>https://api.spotify.com/v1/tracks/1FkgoPdajl8g...</td>\n",
       "      <td>https://api.spotify.com/v1/audio-analysis/1Fkg...</td>\n",
       "      <td>286133.0</td>\n",
       "      <td>4.0</td>\n",
       "    </tr>\n",
       "    <tr>\n",
       "      <th>4</th>\n",
       "      <td>7f89DdKO9vRrn7nl5Gjhdq</td>\n",
       "      <td>Hip-Hop: 1994 - 1999</td>\n",
       "      <td>spotify:playlist:7f89DdKO9vRrn7nl5Gjhdq</td>\n",
       "      <td>4LGMSdeKOUoy5Wf75Je0Hl</td>\n",
       "      <td>Can I Get A...</td>\n",
       "      <td>JAY Z</td>\n",
       "      <td>Amil, Ja Rule</td>\n",
       "      <td>2</td>\n",
       "      <td>spotify:track:4LGMSdeKOUoy5Wf75Je0Hl</td>\n",
       "      <td>2016-12-31T05:46:19Z</td>\n",
       "      <td>...</td>\n",
       "      <td>0.1020</td>\n",
       "      <td>0.825</td>\n",
       "      <td>88.557</td>\n",
       "      <td>audio_features</td>\n",
       "      <td>4LGMSdeKOUoy5Wf75Je0Hl</td>\n",
       "      <td>spotify:track:4LGMSdeKOUoy5Wf75Je0Hl</td>\n",
       "      <td>https://api.spotify.com/v1/tracks/4LGMSdeKOUoy...</td>\n",
       "      <td>https://api.spotify.com/v1/audio-analysis/4LGM...</td>\n",
       "      <td>309773.0</td>\n",
       "      <td>4.0</td>\n",
       "    </tr>\n",
       "  </tbody>\n",
       "</table>\n",
       "<p>5 rows × 28 columns</p>\n",
       "</div>"
      ],
      "text/plain": [
       "              playlist_id         playlist_name  \\\n",
       "0  7f89DdKO9vRrn7nl5Gjhdq  Hip-Hop: 1994 - 1999   \n",
       "1  7f89DdKO9vRrn7nl5Gjhdq  Hip-Hop: 1994 - 1999   \n",
       "2  7f89DdKO9vRrn7nl5Gjhdq  Hip-Hop: 1994 - 1999   \n",
       "3  7f89DdKO9vRrn7nl5Gjhdq  Hip-Hop: 1994 - 1999   \n",
       "4  7f89DdKO9vRrn7nl5Gjhdq  Hip-Hop: 1994 - 1999   \n",
       "\n",
       "                              playlist_uri                track_id  \\\n",
       "0  spotify:playlist:7f89DdKO9vRrn7nl5Gjhdq  22uZ8sPzkovoQG4Cu39Pqe   \n",
       "1  spotify:playlist:7f89DdKO9vRrn7nl5Gjhdq  5Tl0HJvynZtKdSUMKbFVVX   \n",
       "2  spotify:playlist:7f89DdKO9vRrn7nl5Gjhdq  5MnXRG5LzgSzdpIkg5nagT   \n",
       "3  spotify:playlist:7f89DdKO9vRrn7nl5Gjhdq  1FkgoPdajl8gwC1hlyvHtC   \n",
       "4  spotify:playlist:7f89DdKO9vRrn7nl5Gjhdq  4LGMSdeKOUoy5Wf75Je0Hl   \n",
       "\n",
       "                              track_name track_artist featured_artists  \\\n",
       "0                            Big Pimpin'        JAY Z              UGK   \n",
       "1        Hard Knock Life (Ghetto Anthem)        JAY Z              NaN   \n",
       "2  Nigga What, Nigga Who (Originator 99)        JAY Z          Big Jaz   \n",
       "3                      Money, Cash, Hoes        JAY Z              DMX   \n",
       "4                         Can I Get A...        JAY Z    Amil, Ja Rule   \n",
       "\n",
       "   track_popularity                             track_uri  \\\n",
       "0                 0  spotify:track:22uZ8sPzkovoQG4Cu39Pqe   \n",
       "1                 5  spotify:track:5Tl0HJvynZtKdSUMKbFVVX   \n",
       "2                 0  spotify:track:5MnXRG5LzgSzdpIkg5nagT   \n",
       "3                 0  spotify:track:1FkgoPdajl8gwC1hlyvHtC   \n",
       "4                 2  spotify:track:4LGMSdeKOUoy5Wf75Je0Hl   \n",
       "\n",
       "               added_on  ...  liveness  valence    tempo            type  \\\n",
       "0  2016-12-31T05:45:38Z  ...    0.0406    0.914  138.030  audio_features   \n",
       "1  2016-12-31T05:46:05Z  ...    0.0285    0.557   77.030  audio_features   \n",
       "2  2016-12-31T05:46:11Z  ...    0.0656    0.714  132.916  audio_features   \n",
       "3  2016-12-31T05:46:15Z  ...    0.1890    0.476   90.073  audio_features   \n",
       "4  2016-12-31T05:46:19Z  ...    0.1020    0.825   88.557  audio_features   \n",
       "\n",
       "                       id                                   uri  \\\n",
       "0  22uZ8sPzkovoQG4Cu39Pqe  spotify:track:22uZ8sPzkovoQG4Cu39Pqe   \n",
       "1  5Tl0HJvynZtKdSUMKbFVVX  spotify:track:5Tl0HJvynZtKdSUMKbFVVX   \n",
       "2  5MnXRG5LzgSzdpIkg5nagT  spotify:track:5MnXRG5LzgSzdpIkg5nagT   \n",
       "3  1FkgoPdajl8gwC1hlyvHtC  spotify:track:1FkgoPdajl8gwC1hlyvHtC   \n",
       "4  4LGMSdeKOUoy5Wf75Je0Hl  spotify:track:4LGMSdeKOUoy5Wf75Je0Hl   \n",
       "\n",
       "                                          track_href  \\\n",
       "0  https://api.spotify.com/v1/tracks/22uZ8sPzkovo...   \n",
       "1  https://api.spotify.com/v1/tracks/5Tl0HJvynZtK...   \n",
       "2  https://api.spotify.com/v1/tracks/5MnXRG5LzgSz...   \n",
       "3  https://api.spotify.com/v1/tracks/1FkgoPdajl8g...   \n",
       "4  https://api.spotify.com/v1/tracks/4LGMSdeKOUoy...   \n",
       "\n",
       "                                        analysis_url  duration_ms  \\\n",
       "0  https://api.spotify.com/v1/audio-analysis/22uZ...     284640.0   \n",
       "1  https://api.spotify.com/v1/audio-analysis/5Tl0...     238467.0   \n",
       "2  https://api.spotify.com/v1/audio-analysis/5MnX...     233173.0   \n",
       "3  https://api.spotify.com/v1/audio-analysis/1Fkg...     286133.0   \n",
       "4  https://api.spotify.com/v1/audio-analysis/4LGM...     309773.0   \n",
       "\n",
       "   time_signature  \n",
       "0             4.0  \n",
       "1             4.0  \n",
       "2             4.0  \n",
       "3             4.0  \n",
       "4             4.0  \n",
       "\n",
       "[5 rows x 28 columns]"
      ]
     },
     "execution_count": 42,
     "metadata": {},
     "output_type": "execute_result"
    }
   ],
   "source": [
    "df.head()"
   ]
  },
  {
   "cell_type": "code",
   "execution_count": 43,
   "metadata": {},
   "outputs": [],
   "source": [
    "client_credentials_manager = SpotifyClientCredentials(client_id=client_id, client_secret=client_secret)\n",
    "sp = spotipy.Spotify(client_credentials_manager=client_credentials_manager)"
   ]
  },
  {
   "cell_type": "code",
   "execution_count": 48,
   "metadata": {},
   "outputs": [
    {
     "name": "stdout",
     "output_type": "stream",
     "text": [
      "29.854779 seconds elapsed | 8.005418495980157 tps | 0.0 seconds remaining | 0 of 239 remainingof 239 remaininggg\r"
     ]
    }
   ],
   "source": [
    "start = datetime.now()\n",
    "counter = 0\n",
    "df['artist_id'] = None\n",
    "for track_id in df['track_id'].unique():\n",
    "    counter += 1\n",
    "    if any(df.loc[df['track_id'] == track_id].artist_id.isnull()):\n",
    "        #print(track_id)\n",
    "        track_info = sp.track(track_id=track_id)\n",
    "        featuring = []\n",
    "        for i in enumerate(track_info['artists']):\n",
    "            if i[0] == 0: #if this is the first artist of many, make this the recording artist\n",
    "                df.loc[df['track_id'] == track_id,'track_artist'] = i[1]['name']\n",
    "                df.loc[df['track_id'] == track_id,'artist_id'] = i[1]['id']\n",
    "                #print('By:',i[1]['name'])\n",
    "            else: #otherwise, add any other artists as feature artists\n",
    "                featuring.append(i[1]['name'])\n",
    "                \n",
    "        df.loc[df['track_id'] == track_id,'featured_artists'] = ', '.join(featuring)\n",
    "        #print('Featuring:',', '.join(featuring))\n",
    "    sec_elapsed = (datetime.now() - start).total_seconds()\n",
    "    tps = counter/sec_elapsed\n",
    "    tracks_left = len(df.track_id.unique()) - counter\n",
    "    sec_left = tracks_left / tps\n",
    "    total_count = len(df.track_id.unique())\n",
    "    print(sec_elapsed,'seconds elapsed |',tps,'tps |',sec_left,'seconds remaining |',tracks_left,'of',total_count,'remaining',end='\\r')"
   ]
  },
  {
   "cell_type": "code",
   "execution_count": 49,
   "metadata": {},
   "outputs": [],
   "source": [
    "ts = datetime.now().__str__().replace('-','').replace(':','').replace(' ','').replace('.','')\n",
    "#df.to_csv(f'spotify_track_with_artist_info_{ts}.csv',index=False)\n",
    "df.to_csv(f'HH-spotify_track_with_artist_info.csv',index=False)"
   ]
  },
  {
   "cell_type": "markdown",
   "metadata": {},
   "source": [
    "# Analysis\n",
    "---"
   ]
  },
  {
   "cell_type": "markdown",
   "metadata": {},
   "source": [
    "Who are my favorite artists?"
   ]
  },
  {
   "cell_type": "code",
   "execution_count": 50,
   "metadata": {},
   "outputs": [],
   "source": [
    "df = pd.read_csv('HH-spotify_track_with_artist_info.csv')"
   ]
  },
  {
   "cell_type": "code",
   "execution_count": 51,
   "metadata": {},
   "outputs": [],
   "source": [
    "artist_stats = df.groupby('track_artist').count().sort_values(by='id',ascending=False)[['id']].rename(columns={'id':'track_count'})"
   ]
  },
  {
   "cell_type": "code",
   "execution_count": 52,
   "metadata": {},
   "outputs": [],
   "source": [
    "artist_stats['pct_of_tracks'] = artist_stats['track_count'] / df.count()['id']"
   ]
  },
  {
   "cell_type": "code",
   "execution_count": 53,
   "metadata": {},
   "outputs": [],
   "source": [
    "artist_stats.index = pd.Index([i.replace('Joey Bada$$','Joey Bada\\$\\$') for i in artist_stats.index])"
   ]
  },
  {
   "cell_type": "code",
   "execution_count": 54,
   "metadata": {},
   "outputs": [
    {
     "data": {
      "text/html": [
       "<div>\n",
       "<style scoped>\n",
       "    .dataframe tbody tr th:only-of-type {\n",
       "        vertical-align: middle;\n",
       "    }\n",
       "\n",
       "    .dataframe tbody tr th {\n",
       "        vertical-align: top;\n",
       "    }\n",
       "\n",
       "    .dataframe thead th {\n",
       "        text-align: right;\n",
       "    }\n",
       "</style>\n",
       "<table border=\"1\" class=\"dataframe\">\n",
       "  <thead>\n",
       "    <tr style=\"text-align: right;\">\n",
       "      <th></th>\n",
       "      <th>track_count</th>\n",
       "      <th>pct_of_tracks</th>\n",
       "    </tr>\n",
       "  </thead>\n",
       "  <tbody>\n",
       "    <tr>\n",
       "      <th>JAY Z</th>\n",
       "      <td>21</td>\n",
       "      <td>0.087137</td>\n",
       "    </tr>\n",
       "    <tr>\n",
       "      <th>Kanye West</th>\n",
       "      <td>14</td>\n",
       "      <td>0.058091</td>\n",
       "    </tr>\n",
       "    <tr>\n",
       "      <th>DJ Khaled</th>\n",
       "      <td>8</td>\n",
       "      <td>0.033195</td>\n",
       "    </tr>\n",
       "    <tr>\n",
       "      <th>OutKast</th>\n",
       "      <td>8</td>\n",
       "      <td>0.033195</td>\n",
       "    </tr>\n",
       "    <tr>\n",
       "      <th>Busta Rhymes</th>\n",
       "      <td>8</td>\n",
       "      <td>0.033195</td>\n",
       "    </tr>\n",
       "    <tr>\n",
       "      <th>Diddy</th>\n",
       "      <td>7</td>\n",
       "      <td>0.029046</td>\n",
       "    </tr>\n",
       "    <tr>\n",
       "      <th>Mase</th>\n",
       "      <td>6</td>\n",
       "      <td>0.024896</td>\n",
       "    </tr>\n",
       "    <tr>\n",
       "      <th>50 Cent</th>\n",
       "      <td>5</td>\n",
       "      <td>0.020747</td>\n",
       "    </tr>\n",
       "    <tr>\n",
       "      <th>DMX</th>\n",
       "      <td>5</td>\n",
       "      <td>0.020747</td>\n",
       "    </tr>\n",
       "    <tr>\n",
       "      <th>The-Dream</th>\n",
       "      <td>5</td>\n",
       "      <td>0.020747</td>\n",
       "    </tr>\n",
       "    <tr>\n",
       "      <th>Lil Wayne</th>\n",
       "      <td>5</td>\n",
       "      <td>0.020747</td>\n",
       "    </tr>\n",
       "    <tr>\n",
       "      <th>Q-Tip</th>\n",
       "      <td>4</td>\n",
       "      <td>0.016598</td>\n",
       "    </tr>\n",
       "    <tr>\n",
       "      <th>Jim Jones</th>\n",
       "      <td>4</td>\n",
       "      <td>0.016598</td>\n",
       "    </tr>\n",
       "    <tr>\n",
       "      <th>Drake</th>\n",
       "      <td>4</td>\n",
       "      <td>0.016598</td>\n",
       "    </tr>\n",
       "    <tr>\n",
       "      <th>Common</th>\n",
       "      <td>3</td>\n",
       "      <td>0.012448</td>\n",
       "    </tr>\n",
       "  </tbody>\n",
       "</table>\n",
       "</div>"
      ],
      "text/plain": [
       "              track_count  pct_of_tracks\n",
       "JAY Z                  21       0.087137\n",
       "Kanye West             14       0.058091\n",
       "DJ Khaled               8       0.033195\n",
       "OutKast                 8       0.033195\n",
       "Busta Rhymes            8       0.033195\n",
       "Diddy                   7       0.029046\n",
       "Mase                    6       0.024896\n",
       "50 Cent                 5       0.020747\n",
       "DMX                     5       0.020747\n",
       "The-Dream               5       0.020747\n",
       "Lil Wayne               5       0.020747\n",
       "Q-Tip                   4       0.016598\n",
       "Jim Jones               4       0.016598\n",
       "Drake                   4       0.016598\n",
       "Common                  3       0.012448"
      ]
     },
     "execution_count": 54,
     "metadata": {},
     "output_type": "execute_result"
    }
   ],
   "source": [
    "artist_stats.head(15)"
   ]
  },
  {
   "cell_type": "code",
   "execution_count": 55,
   "metadata": {},
   "outputs": [
    {
     "data": {
      "text/plain": [
       "<matplotlib.axes._subplots.AxesSubplot at 0x11a6a3550>"
      ]
     },
     "execution_count": 55,
     "metadata": {},
     "output_type": "execute_result"
    },
    {
     "data": {
      "image/png": "[encoded data removed]",
      "text/plain": [
       "<Figure size 1080x1080 with 1 Axes>"
      ]
     },
     "metadata": {},
     "output_type": "display_data"
    }
   ],
   "source": [
    "artist_stats.head(15).plot(kind='pie',y='pct_of_tracks',figsize=(15,15),colormap='viridis_r',fontsize=12, legend=False)"
   ]
  },
  {
   "cell_type": "markdown",
   "metadata": {},
   "source": [
    "Most Featured Artists\n",
    "\n",
    "---"
   ]
  },
  {
   "cell_type": "code",
   "execution_count": 29,
   "metadata": {},
   "outputs": [],
   "source": [
    "import numpy as np"
   ]
  },
  {
   "cell_type": "code",
   "execution_count": 30,
   "metadata": {},
   "outputs": [],
   "source": [
    "featured_artists = df.drop_duplicates().replace('',np.nan).dropna().groupby('featured_artists').count().sort_values(by='id',ascending=False)[['id']].rename(columns={'id':'track_count'})"
   ]
  },
  {
   "cell_type": "code",
   "execution_count": 31,
   "metadata": {},
   "outputs": [],
   "source": [
    "featured_artists['pct_of_tracks'] = featured_artists['track_count'] / df.count()['id']"
   ]
  },
  {
   "cell_type": "code",
   "execution_count": 32,
   "metadata": {},
   "outputs": [],
   "source": [
    "featured_artists.index = pd.Index([i.replace('Joey Bada$$','Joey Bada\\$\\$') for i in featured_artists.index])"
   ]
  },
  {
   "cell_type": "code",
   "execution_count": 33,
   "metadata": {},
   "outputs": [
    {
     "data": {
      "text/plain": [
       "<matplotlib.axes._subplots.AxesSubplot at 0x119f597f0>"
      ]
     },
     "execution_count": 33,
     "metadata": {},
     "output_type": "execute_result"
    },
    {
     "data": {
      "image/png": "[encoded data removed]",
      "text/plain": [
       "<Figure size 1080x1080 with 1 Axes>"
      ]
     },
     "metadata": {},
     "output_type": "display_data"
    }
   ],
   "source": [
    "featured_artists.head(15).plot(kind='bar',y='track_count',figsize=(15,15),fontsize=10)"
   ]
  },
  {
   "cell_type": "code",
   "execution_count": null,
   "metadata": {},
   "outputs": [],
   "source": []
  }
 ],
 "metadata": {
  "kernelspec": {
   "display_name": "Python 3",
   "language": "python",
   "name": "python3"
  },
  "language_info": {
   "codemirror_mode": {
    "name": "ipython",
    "version": 3
   },
   "file_extension": ".py",
   "mimetype": "text/x-python",
   "name": "python",
   "nbconvert_exporter": "python",
   "pygments_lexer": "ipython3",
   "version": "3.6.8"
  }
 },
 "nbformat": 4,
 "nbformat_minor": 2
}
