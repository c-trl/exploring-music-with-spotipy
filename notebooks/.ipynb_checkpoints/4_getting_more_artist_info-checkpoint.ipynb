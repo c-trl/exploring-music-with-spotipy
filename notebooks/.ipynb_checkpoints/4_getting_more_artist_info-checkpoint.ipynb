{
 "cells": [
  {
   "cell_type": "code",
   "execution_count": 2,
   "metadata": {},
   "outputs": [],
   "source": [
    "import pandas as pd"
   ]
  },
  {
   "cell_type": "code",
   "execution_count": 3,
   "metadata": {},
   "outputs": [],
   "source": [
    "from datetime import datetime"
   ]
  },
  {
   "cell_type": "code",
   "execution_count": 4,
   "metadata": {},
   "outputs": [],
   "source": [
    "import spotipy\n",
    "from credentials import client_id, client_secret\n",
    "from spotipy.oauth2 import SpotifyClientCredentials\n",
    "\n",
    "client_credentials_manager = SpotifyClientCredentials(client_id=client_id, client_secret=client_secret)\n",
    "sp = spotipy.Spotify(client_credentials_manager=client_credentials_manager)\n",
    "\n",
    "scope = 'user-library-read'\n",
    "username = 'Christian Tirol'\n",
    "\n",
    "user = '125065858'"
   ]
  },
  {
   "cell_type": "code",
   "execution_count": 14,
   "metadata": {},
   "outputs": [],
   "source": [
    "df = pd.read_csv('spotify_track_with_artist_info.csv')"
   ]
  },
  {
   "cell_type": "code",
   "execution_count": 16,
   "metadata": {},
   "outputs": [],
   "source": [
    "df['artist_genres'] = pd.Series()"
   ]
  },
  {
   "cell_type": "code",
   "execution_count": 17,
   "metadata": {},
   "outputs": [
    {
     "name": "stdout",
     "output_type": "stream",
     "text": [
      "180.767276 seconds elapsed | 2.428536899565826 aps | 0.0 seconds remaining | 0 of 439 remainingof 439 remaininggg\r"
     ]
    }
   ],
   "source": [
    "start = datetime.now()\n",
    "counter = 0\n",
    "\n",
    "for artist_id in df['artist_id'].unique():\n",
    "    counter += 1\n",
    "    if any(df.loc[df['artist_id'] == artist_id].artist_genres.isnull()):\n",
    "        artist_info = sp.artist(artist_id)\n",
    "        df.loc[df['artist_id'] == artist_id,'artist_popularity'] = artist_info['popularity']\n",
    "        df.loc[df['artist_id'] == artist_id,'artist_followers'] = artist_info['followers']['total']\n",
    "        df.loc[df['artist_id'] == artist_id,'artist_genres'] = ', '.join(artist_info['genres'])\n",
    "\n",
    "        sec_elapsed = (datetime.now() - start).total_seconds()\n",
    "        aps = counter / sec_elapsed\n",
    "        artists_left = len(df.artist_id.unique()) - counter\n",
    "        sec_left = artists_left / aps\n",
    "        total_count = len(df.artist_id.unique())\n",
    "    print(sec_elapsed,'seconds elapsed |',aps,'aps |',sec_left,'seconds remaining |',artists_left,'of',total_count,'remaining',end='\\r')"
   ]
  },
  {
   "cell_type": "code",
   "execution_count": 19,
   "metadata": {},
   "outputs": [],
   "source": [
    "#df.to_csv('spotify_track_with_genres.csv',index=False)"
   ]
  },
  {
   "cell_type": "code",
   "execution_count": 5,
   "metadata": {},
   "outputs": [],
   "source": [
    "df = pd.read_csv('spotify_track_with_genres.csv')"
   ]
  },
  {
   "cell_type": "code",
   "execution_count": 6,
   "metadata": {},
   "outputs": [
    {
     "data": {
      "text/html": [
       "<div>\n",
       "<style scoped>\n",
       "    .dataframe tbody tr th:only-of-type {\n",
       "        vertical-align: middle;\n",
       "    }\n",
       "\n",
       "    .dataframe tbody tr th {\n",
       "        vertical-align: top;\n",
       "    }\n",
       "\n",
       "    .dataframe thead th {\n",
       "        text-align: right;\n",
       "    }\n",
       "</style>\n",
       "<table border=\"1\" class=\"dataframe\">\n",
       "  <thead>\n",
       "    <tr style=\"text-align: right;\">\n",
       "      <th></th>\n",
       "      <th>playlist_id</th>\n",
       "      <th>playlist_name</th>\n",
       "      <th>playlist_uri</th>\n",
       "      <th>track_id</th>\n",
       "      <th>track_name</th>\n",
       "      <th>track_popularity</th>\n",
       "      <th>track_uri</th>\n",
       "      <th>added_on</th>\n",
       "      <th>danceability</th>\n",
       "      <th>energy</th>\n",
       "      <th>...</th>\n",
       "      <th>track_artist</th>\n",
       "      <th>artist_id</th>\n",
       "      <th>featured_artists</th>\n",
       "      <th>time_added</th>\n",
       "      <th>date_added</th>\n",
       "      <th>hour_added</th>\n",
       "      <th>day_added</th>\n",
       "      <th>artist_genres</th>\n",
       "      <th>artist_popularity</th>\n",
       "      <th>artist_followers</th>\n",
       "    </tr>\n",
       "  </thead>\n",
       "  <tbody>\n",
       "    <tr>\n",
       "      <th>0</th>\n",
       "      <td>4dzfNpjHWfTk48NkahGHX5</td>\n",
       "      <td>Pierce</td>\n",
       "      <td>spotify:user:125065858:playlist:4dzfNpjHWfTk48...</td>\n",
       "      <td>6cd3jB1kIDowUwsApyXrd1</td>\n",
       "      <td>That's O.K.</td>\n",
       "      <td>44</td>\n",
       "      <td>spotify:track:6cd3jB1kIDowUwsApyXrd1</td>\n",
       "      <td>2019-02-19T16:03:28Z</td>\n",
       "      <td>0.497</td>\n",
       "      <td>0.611</td>\n",
       "      <td>...</td>\n",
       "      <td>Jonwayne</td>\n",
       "      <td>3i7IUsb5VsiJAKqX2Md9Fc</td>\n",
       "      <td>NaN</td>\n",
       "      <td>16:03:28</td>\n",
       "      <td>2019-02-19</td>\n",
       "      <td>16</td>\n",
       "      <td>2</td>\n",
       "      <td>alternative hip hop, escape room, wonky</td>\n",
       "      <td>48.0</td>\n",
       "      <td>60367.0</td>\n",
       "    </tr>\n",
       "    <tr>\n",
       "      <th>1</th>\n",
       "      <td>4dzfNpjHWfTk48NkahGHX5</td>\n",
       "      <td>Pierce</td>\n",
       "      <td>spotify:user:125065858:playlist:4dzfNpjHWfTk48...</td>\n",
       "      <td>6PInkrdWpzFi6c4Ffrzs3q</td>\n",
       "      <td>Baybee</td>\n",
       "      <td>57</td>\n",
       "      <td>spotify:track:6PInkrdWpzFi6c4Ffrzs3q</td>\n",
       "      <td>2019-02-19T19:47:20Z</td>\n",
       "      <td>0.624</td>\n",
       "      <td>0.599</td>\n",
       "      <td>...</td>\n",
       "      <td>Jay Som</td>\n",
       "      <td>1wmiQ6ytATiGnJs6uFluKO</td>\n",
       "      <td>NaN</td>\n",
       "      <td>19:47:20</td>\n",
       "      <td>2019-02-19</td>\n",
       "      <td>19</td>\n",
       "      <td>2</td>\n",
       "      <td>art pop, bay area indie, chamber pop, chillwav...</td>\n",
       "      <td>53.0</td>\n",
       "      <td>41611.0</td>\n",
       "    </tr>\n",
       "    <tr>\n",
       "      <th>2</th>\n",
       "      <td>4dzfNpjHWfTk48NkahGHX5</td>\n",
       "      <td>Pierce</td>\n",
       "      <td>spotify:user:125065858:playlist:4dzfNpjHWfTk48...</td>\n",
       "      <td>7G8xNxQAWiBPAVgBqEVI7o</td>\n",
       "      <td>I Came Running</td>\n",
       "      <td>52</td>\n",
       "      <td>spotify:track:7G8xNxQAWiBPAVgBqEVI7o</td>\n",
       "      <td>2019-02-20T17:24:42Z</td>\n",
       "      <td>0.655</td>\n",
       "      <td>0.779</td>\n",
       "      <td>...</td>\n",
       "      <td>Ancient Astronauts</td>\n",
       "      <td>09JW90QIws2Z3H8hxL5fFN</td>\n",
       "      <td>NaN</td>\n",
       "      <td>17:24:42</td>\n",
       "      <td>2019-02-20</td>\n",
       "      <td>17</td>\n",
       "      <td>3</td>\n",
       "      <td>acid jazz, ninja, nu jazz, trip hop, turntablism</td>\n",
       "      <td>44.0</td>\n",
       "      <td>20337.0</td>\n",
       "    </tr>\n",
       "    <tr>\n",
       "      <th>3</th>\n",
       "      <td>4dzfNpjHWfTk48NkahGHX5</td>\n",
       "      <td>Pierce</td>\n",
       "      <td>spotify:user:125065858:playlist:4dzfNpjHWfTk48...</td>\n",
       "      <td>5GKekzF1YcR2DQd9c3DI8y</td>\n",
       "      <td>Cigarettes out the Window</td>\n",
       "      <td>58</td>\n",
       "      <td>spotify:track:5GKekzF1YcR2DQd9c3DI8y</td>\n",
       "      <td>2019-02-20T17:37:59Z</td>\n",
       "      <td>0.626</td>\n",
       "      <td>0.659</td>\n",
       "      <td>...</td>\n",
       "      <td>TV Girl</td>\n",
       "      <td>0Y6dVaC9DZtPNH4591M42W</td>\n",
       "      <td>NaN</td>\n",
       "      <td>17:37:59</td>\n",
       "      <td>2019-02-20</td>\n",
       "      <td>17</td>\n",
       "      <td>3</td>\n",
       "      <td>chillwave, indie garage rock, indie pop, indie...</td>\n",
       "      <td>57.0</td>\n",
       "      <td>63060.0</td>\n",
       "    </tr>\n",
       "    <tr>\n",
       "      <th>4</th>\n",
       "      <td>4dzfNpjHWfTk48NkahGHX5</td>\n",
       "      <td>Pierce</td>\n",
       "      <td>spotify:user:125065858:playlist:4dzfNpjHWfTk48...</td>\n",
       "      <td>6Q2wQud0dEXtM9CenNKmLc</td>\n",
       "      <td>Curious</td>\n",
       "      <td>33</td>\n",
       "      <td>spotify:track:6Q2wQud0dEXtM9CenNKmLc</td>\n",
       "      <td>2019-02-20T23:28:38Z</td>\n",
       "      <td>0.485</td>\n",
       "      <td>0.691</td>\n",
       "      <td>...</td>\n",
       "      <td>Jonwayne</td>\n",
       "      <td>3i7IUsb5VsiJAKqX2Md9Fc</td>\n",
       "      <td>Jeremiah Jae, Zeroh</td>\n",
       "      <td>23:28:38</td>\n",
       "      <td>2019-02-20</td>\n",
       "      <td>23</td>\n",
       "      <td>3</td>\n",
       "      <td>alternative hip hop, escape room, wonky</td>\n",
       "      <td>48.0</td>\n",
       "      <td>60367.0</td>\n",
       "    </tr>\n",
       "  </tbody>\n",
       "</table>\n",
       "<p>5 rows × 36 columns</p>\n",
       "</div>"
      ],
      "text/plain": [
       "              playlist_id playlist_name  \\\n",
       "0  4dzfNpjHWfTk48NkahGHX5        Pierce   \n",
       "1  4dzfNpjHWfTk48NkahGHX5        Pierce   \n",
       "2  4dzfNpjHWfTk48NkahGHX5        Pierce   \n",
       "3  4dzfNpjHWfTk48NkahGHX5        Pierce   \n",
       "4  4dzfNpjHWfTk48NkahGHX5        Pierce   \n",
       "\n",
       "                                        playlist_uri                track_id  \\\n",
       "0  spotify:user:125065858:playlist:4dzfNpjHWfTk48...  6cd3jB1kIDowUwsApyXrd1   \n",
       "1  spotify:user:125065858:playlist:4dzfNpjHWfTk48...  6PInkrdWpzFi6c4Ffrzs3q   \n",
       "2  spotify:user:125065858:playlist:4dzfNpjHWfTk48...  7G8xNxQAWiBPAVgBqEVI7o   \n",
       "3  spotify:user:125065858:playlist:4dzfNpjHWfTk48...  5GKekzF1YcR2DQd9c3DI8y   \n",
       "4  spotify:user:125065858:playlist:4dzfNpjHWfTk48...  6Q2wQud0dEXtM9CenNKmLc   \n",
       "\n",
       "                  track_name  track_popularity  \\\n",
       "0                That's O.K.                44   \n",
       "1                     Baybee                57   \n",
       "2             I Came Running                52   \n",
       "3  Cigarettes out the Window                58   \n",
       "4                    Curious                33   \n",
       "\n",
       "                              track_uri              added_on  danceability  \\\n",
       "0  spotify:track:6cd3jB1kIDowUwsApyXrd1  2019-02-19T16:03:28Z         0.497   \n",
       "1  spotify:track:6PInkrdWpzFi6c4Ffrzs3q  2019-02-19T19:47:20Z         0.624   \n",
       "2  spotify:track:7G8xNxQAWiBPAVgBqEVI7o  2019-02-20T17:24:42Z         0.655   \n",
       "3  spotify:track:5GKekzF1YcR2DQd9c3DI8y  2019-02-20T17:37:59Z         0.626   \n",
       "4  spotify:track:6Q2wQud0dEXtM9CenNKmLc  2019-02-20T23:28:38Z         0.485   \n",
       "\n",
       "   energy  ...        track_artist               artist_id  \\\n",
       "0   0.611  ...            Jonwayne  3i7IUsb5VsiJAKqX2Md9Fc   \n",
       "1   0.599  ...             Jay Som  1wmiQ6ytATiGnJs6uFluKO   \n",
       "2   0.779  ...  Ancient Astronauts  09JW90QIws2Z3H8hxL5fFN   \n",
       "3   0.659  ...             TV Girl  0Y6dVaC9DZtPNH4591M42W   \n",
       "4   0.691  ...            Jonwayne  3i7IUsb5VsiJAKqX2Md9Fc   \n",
       "\n",
       "      featured_artists  time_added  date_added  hour_added  day_added  \\\n",
       "0                  NaN    16:03:28  2019-02-19          16          2   \n",
       "1                  NaN    19:47:20  2019-02-19          19          2   \n",
       "2                  NaN    17:24:42  2019-02-20          17          3   \n",
       "3                  NaN    17:37:59  2019-02-20          17          3   \n",
       "4  Jeremiah Jae, Zeroh    23:28:38  2019-02-20          23          3   \n",
       "\n",
       "                                       artist_genres  artist_popularity  \\\n",
       "0            alternative hip hop, escape room, wonky               48.0   \n",
       "1  art pop, bay area indie, chamber pop, chillwav...               53.0   \n",
       "2   acid jazz, ninja, nu jazz, trip hop, turntablism               44.0   \n",
       "3  chillwave, indie garage rock, indie pop, indie...               57.0   \n",
       "4            alternative hip hop, escape room, wonky               48.0   \n",
       "\n",
       "  artist_followers  \n",
       "0          60367.0  \n",
       "1          41611.0  \n",
       "2          20337.0  \n",
       "3          63060.0  \n",
       "4          60367.0  \n",
       "\n",
       "[5 rows x 36 columns]"
      ]
     },
     "execution_count": 6,
     "metadata": {},
     "output_type": "execute_result"
    }
   ],
   "source": [
    "df.head()"
   ]
  },
  {
   "cell_type": "markdown",
   "metadata": {},
   "source": [
    "When do I like to listen indie artists the most?\n",
    "\n",
    "--- "
   ]
  },
  {
   "cell_type": "code",
   "execution_count": 10,
   "metadata": {},
   "outputs": [],
   "source": [
    "%matplotlib inline"
   ]
  },
  {
   "cell_type": "code",
   "execution_count": 11,
   "metadata": {},
   "outputs": [
    {
     "data": {
      "text/plain": [
       "<matplotlib.axes._subplots.AxesSubplot at 0x1197b2518>"
      ]
     },
     "execution_count": 11,
     "metadata": {},
     "output_type": "execute_result"
    },
    {
     "data": {
      "image/png": "[encoded data removed]",
      "text/plain": [
       "<Figure size 432x288 with 1 Axes>"
      ]
     },
     "metadata": {},
     "output_type": "display_data"
    }
   ],
   "source": [
    "df[['hour_added','artist_followers']].groupby('hour_added').count().plot(kind='bar',y='artist_followers')"
   ]
  },
  {
   "cell_type": "code",
   "execution_count": null,
   "metadata": {},
   "outputs": [],
   "source": []
  }
 ],
 "metadata": {
  "kernelspec": {
   "display_name": "Python 3",
   "language": "python",
   "name": "python3"
  },
  "language_info": {
   "codemirror_mode": {
    "name": "ipython",
    "version": 3
   },
   "file_extension": ".py",
   "mimetype": "text/x-python",
   "name": "python",
   "nbconvert_exporter": "python",
   "pygments_lexer": "ipython3",
   "version": "3.6.8"
  }
 },
 "nbformat": 4,
 "nbformat_minor": 2
}
